{
 "cells": [
  {
   "cell_type": "markdown",
   "id": "e4322157",
   "metadata": {},
   "source": [
    "# How to: Sumarize ImageMetadata"
   ]
  },
  {
   "cell_type": "markdown",
   "id": "6da22faa",
   "metadata": {},
   "source": [
    "```{note}\n",
    "This example requires a running instance of `cobra_db`.\n",
    "This example runs on the one that was created in the first tutorial.\n",
    "```\n",
    "\n",
    "In this example, we will summarize the ImageMetadata collection that was created in the\n",
    "first tutorial. The same code can be used with any database that you created in the same\n",
    "way."
   ]
  },
  {
   "cell_type": "code",
   "execution_count": 1,
   "id": "0e406724",
   "metadata": {},
   "outputs": [
    {
     "name": "stdout",
     "output_type": "stream",
     "text": [
      "This example was run with cobra_db v0.2.2\n"
     ]
    }
   ],
   "source": [
    "import cobra_db\n",
    "print(f\"This example was run with cobra_db v{cobra_db.__version__}\")"
   ]
  },
  {
   "cell_type": "code",
   "execution_count": null,
   "id": "243d1fdc",
   "metadata": {
    "tags": [
     "remove-cell"
    ]
   },
   "outputs": [],
   "source": [
    "# This cell should not be visible in the documentation\n",
    "import os\n",
    "from dotenv import load_dotenv\n",
    "pwd = './'\n",
    "dotenv_path = os.path.join(pwd, \".env\")\n",
    "if os.path.exists(dotenv_path):\n",
    "    load_dotenv(dotenv_path)\n",
    "my_mongo_username = os.environ['docs_user']\n",
    "my_db_name = os.environ['docs_db_name']\n",
    "my_mongo_password = os.environ['docs_mongo_pass']\n",
    "my_mongo_host = os.environ['mongo_host']"
   ]
  },
  {
   "cell_type": "code",
   "execution_count": null,
   "id": "3454f11e",
   "metadata": {},
   "outputs": [],
   "source": [
    "from cobra_db import Connector\n",
    "\n",
    "# Create the connector with your own credentials.\n",
    "# Remember that you can also use\n",
    "# `Connector.get_env_pass` or `Connector.get_pass`\n",
    "# to keep your password safe.\n",
    "connector = Connector(\n",
    "    host=my_mongo_host,\n",
    "    db_name=my_db_name,\n",
    "    username=my_mongo_username,\n",
    "    password=my_mongo_password,\n",
    "    port=27017  # In case you need to specify one\n",
    ")"
   ]
  },
  {
   "cell_type": "markdown",
   "id": "fad6f745",
   "metadata": {},
   "source": [
    "Now let's list all the SOPClasses that exist in our `ImageMetadata` collection"
   ]
  },
  {
   "cell_type": "code",
   "execution_count": null,
   "id": "3214edeb",
   "metadata": {},
   "outputs": [],
   "source": [
    "from cobra_db import ImageMetadataDao\n",
    "# create the data access object\n",
    "im_dao = ImageMetadataDao(connector)\n",
    "# prepare the aggregation pipeline.\n",
    "pipeline = [\n",
    "    {\n",
    "        \"$group\": {\n",
    "            \"_id\": {\"$first\": \"$dicom_tags.SOPClassUID.Value\"},\n",
    "            \"n\": {\"$sum\": 1},\n",
    "        }\n",
    "    },\n",
    "    {\"$sort\": {\"n\": -1}},\n",
    "]\n",
    "sop_classes = list(im_dao.collection.aggregate(pipeline, allowDiskUse=True))\n",
    "\n",
    "print(sop_classes)"
   ]
  },
  {
   "cell_type": "markdown",
   "id": "50fca4ad",
   "metadata": {},
   "source": [
    "This is already useful, but let's display it as a pandas dataframe with readable names."
   ]
  },
  {
   "cell_type": "code",
   "execution_count": null,
   "id": "37533c36",
   "metadata": {},
   "outputs": [],
   "source": [
    "import pandas as pd\n",
    "from pydicom._uid_dict import UID_dictionary\n",
    "for i, c in enumerate(sop_classes):\n",
    "    sop_classes[i]['sop_class_name'] = UID_dictionary.get(c['_id'], ['Unknown'])[0]\n",
    "pd.DataFrame(sop_classes)\n"
   ]
  },
  {
   "cell_type": "markdown",
   "id": "cd600118",
   "metadata": {},
   "source": [
    "Let's now group the instances of each SOP Class by different tags.\n",
    "Grouping by `SOPInstanceUID` allows us to see how many duplicate files we have. Grouping by `SeriesInstanceUID`, `StudyInstanceUID`, and `PatientID` is also insightful."
   ]
  },
  {
   "cell_type": "code",
   "execution_count": null,
   "id": "1ed75d22",
   "metadata": {},
   "outputs": [],
   "source": [
    "# we define a funtion that will be used with each SOP Class\n",
    "def analyse_sop_class(uid):\n",
    "    class_name = UID_dictionary.get(uid, [\"Unknown\"])[0]\n",
    "    n_images = im_dao.collection.count_documents({\"dicom_tags.SOPClassUID.Value\": uid})\n",
    "\n",
    "    def group_and_count(tag: str):\n",
    "        return list(\n",
    "            im_dao.collection.aggregate(\n",
    "                [\n",
    "                    {\"$match\": {\"dicom_tags.SOPClassUID.Value\": uid}},\n",
    "                    {\n",
    "                        \"$group\": {\n",
    "                            \"_id\": {\"$first\": f\"$dicom_tags.{tag}.Value\"},\n",
    "                            \"n\": {\"$sum\": 1},\n",
    "                        },\n",
    "                    },\n",
    "                    {\n",
    "                        \"$facet\": {  # split the pipeline to count different things\n",
    "                            f\"n_{tag}\": [{\"$count\": \"n\"}],\n",
    "                            f\"min_n_images_per_{tag}\": [\n",
    "                                {\"$sort\": {\"n\": 1}},\n",
    "                                {\"$limit\": 1},\n",
    "                            ],\n",
    "                            f\"max_n_images_per_{tag}\": [\n",
    "                                {\"$sort\": {\"n\": -1}},\n",
    "                                {\"$limit\": 1},\n",
    "                            ],\n",
    "                        }\n",
    "                    },\n",
    "                    {\n",
    "                        \"$project\": {\n",
    "                            f\"n_{tag}\": {\"$first\": f\"$n_{tag}.n\"},\n",
    "                            f\"min_n_images_per_{tag}\": {\n",
    "                                \"$first\": f\"$min_n_images_per_{tag}.n\"\n",
    "                            },\n",
    "                            f\"max_n_images_per_{tag}\": {\n",
    "                                \"$first\": f\"$max_n_images_per_{tag}.n\"\n",
    "                            },\n",
    "                        }\n",
    "                    },\n",
    "                ],\n",
    "                allowDiskUse=True,\n",
    "            )\n",
    "        )[0]\n",
    "\n",
    "    ans = {\"SOPClassUID\": uid, \"class_name\": class_name, \"n_images\": n_images}\n",
    "    ans.update(group_and_count(\"SOPInstanceUID\"))\n",
    "    ans.update(group_and_count(\"SeriesInstanceUID\"))\n",
    "    ans.update(group_and_count(\"StudyInstanceUID\"))\n",
    "    ans.update(group_and_count(\"PatientID\"))\n",
    "    return ans"
   ]
  },
  {
   "cell_type": "code",
   "execution_count": null,
   "id": "8b52beb4",
   "metadata": {
    "tags": [
     "output-scroll"
    ]
   },
   "outputs": [],
   "source": [
    "from pprint import pprint\n",
    "sop_classes_analysis = [analyse_sop_class(doc['_id']) for doc in sop_classes]\n",
    "pprint(sop_classes_analysis)"
   ]
  }
 ],
 "metadata": {
  "jupytext": {
   "text_representation": {
    "format_name": "myst"
   }
  },
  "kernelspec": {
   "display_name": "Python 3",
   "name": "python3"
  },
  "language_info": {
   "codemirror_mode": {
    "name": "ipython",
    "version": 3
   },
   "file_extension": ".py",
   "mimetype": "text/x-python",
   "name": "python",
   "nbconvert_exporter": "python",
   "pygments_lexer": "ipython3",
   "version": "3.9.16"
  },
  "source_map": [
   8,
   12,
   23,
   28,
   43,
   57,
   60,
   77,
   81,
   88,
   93,
   147
  ]
 },
 "nbformat": 4,
 "nbformat_minor": 5
}
