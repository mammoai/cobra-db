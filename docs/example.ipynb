{
    "cells": [
        {
            "cell_type": "markdown",
            "metadata": {},
            "source": [
                "# How to: Connect your python script\n",
                "\n",
                "To use `cobra_db` in a project:"
            ]
        },
        {
            "cell_type": "code",
            "execution_count": 1,
            "metadata": {},
            "outputs": [
                {
                    "name": "stdout",
                    "output_type": "stream",
                    "text": [
                        "0.1.4\n"
                    ]
                }
            ],
            "source": [
                "import cobra_db\n",
                "print(cobra_db.__version__)\n",
                "from cobra_db import Connector, StudyDao\n",
                "\n",
                "connector_kwargs = dict(\n",
                "    host=\"my_host.com\",\n",
                "    port=27017,\n",
                "    db_name=\"my_db_name\",\n",
                "    username=\"my_username\",\n",
                ")"
            ]
        },
        {
            "cell_type": "markdown",
            "metadata": {},
            "source": [
                "Passwords must never be stored in plain text. This means never hardcoding the password \n",
                "in your script.\n",
                "\n",
                "\n",
                "### Option 1: Prompt the user for the password at execution time\n",
                "\n",
                "This is useful in jupyter notebooks. An interactive prompt will appear when running \n",
                "the following cell:\n",
                "\n",
                "```python\n",
                "connector = Connector.get_pass(**connector_kwargs)\n",
                "```"
            ]
        },
        {
            "cell_type": "markdown",
            "metadata": {},
            "source": [
                "### Option 2: Get the password from the env variables\n",
                "\n",
                "This option should be used for scripts.\n",
                "\n",
                "We will need to run the following command only once per session (with a trailing space to avoid leaking your password to the command history).\n",
                "```bash\n",
                " export MONGOPASS='my_passw'\n",
                "```\n",
                "Then you will be able to create the connector.\n"
            ]
        },
        {
            "cell_type": "code",
            "execution_count": 2,
            "metadata": {},
            "outputs": [],
            "source": [
                "# in this case we set the password at runtime to be able to showcase the functionality\n",
                "import os\n",
                "os.environ['MONGOPASS'] = 'my_passw'"
            ]
        },
        {
            "cell_type": "code",
            "execution_count": 3,
            "metadata": {},
            "outputs": [
                {
                    "name": "stdout",
                    "output_type": "stream",
                    "text": [
                        "Successfully created connector to mongodb://my_username:%2A%2A%2A%2A%2A%2A%2A%2A@my_host.com:27017/my_db_name\n"
                    ]
                }
            ],
            "source": [
                "connector = Connector.get_env_pass(**connector_kwargs)\n",
                "print(f\"Successfully created connector to {connector}\")"
            ]
        }
    ],
    "metadata": {
        "kernelspec": {
            "display_name": "Python 3.9.12 ('cobra')",
            "language": "python",
            "name": "python3"
        },
        "language_info": {
            "codemirror_mode": {
                "name": "ipython",
                "version": 3
            },
            "file_extension": ".py",
            "mimetype": "text/x-python",
            "name": "python",
            "nbconvert_exporter": "python",
            "pygments_lexer": "ipython3",
            "version": "3.9.12"
        },
        "vscode": {
            "interpreter": {
                "hash": "26ab8a3b5cb513c00c5b6ef965ab28cd0962dcd285342ab05e5fbef3acccc145"
            }
        }
    },
    "nbformat": 4,
    "nbformat_minor": 4
}
